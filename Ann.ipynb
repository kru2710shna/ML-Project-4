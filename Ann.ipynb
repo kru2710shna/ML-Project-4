{
 "cells": [
  {
   "cell_type": "code",
   "execution_count": 20,
   "metadata": {},
   "outputs": [
    {
     "name": "stdout",
     "output_type": "stream",
     "text": [
      "Requirement already satisfied: tensorflow in ./mlp4/lib/python3.10/site-packages (2.15.0)\n",
      "Requirement already satisfied: tensorflow-macos==2.15.0 in ./mlp4/lib/python3.10/site-packages (from tensorflow) (2.15.0)\n",
      "Requirement already satisfied: absl-py>=1.0.0 in ./mlp4/lib/python3.10/site-packages (from tensorflow-macos==2.15.0->tensorflow) (2.0.0)\n",
      "Requirement already satisfied: astunparse>=1.6.0 in ./mlp4/lib/python3.10/site-packages (from tensorflow-macos==2.15.0->tensorflow) (1.6.3)\n",
      "Requirement already satisfied: flatbuffers>=23.5.26 in ./mlp4/lib/python3.10/site-packages (from tensorflow-macos==2.15.0->tensorflow) (23.5.26)\n",
      "Requirement already satisfied: gast!=0.5.0,!=0.5.1,!=0.5.2,>=0.2.1 in ./mlp4/lib/python3.10/site-packages (from tensorflow-macos==2.15.0->tensorflow) (0.5.4)\n",
      "Requirement already satisfied: google-pasta>=0.1.1 in ./mlp4/lib/python3.10/site-packages (from tensorflow-macos==2.15.0->tensorflow) (0.2.0)\n",
      "Requirement already satisfied: h5py>=2.9.0 in ./mlp4/lib/python3.10/site-packages (from tensorflow-macos==2.15.0->tensorflow) (3.10.0)\n",
      "Requirement already satisfied: libclang>=13.0.0 in ./mlp4/lib/python3.10/site-packages (from tensorflow-macos==2.15.0->tensorflow) (16.0.6)\n",
      "Requirement already satisfied: ml-dtypes~=0.2.0 in ./mlp4/lib/python3.10/site-packages (from tensorflow-macos==2.15.0->tensorflow) (0.2.0)\n",
      "Requirement already satisfied: numpy<2.0.0,>=1.23.5 in ./mlp4/lib/python3.10/site-packages (from tensorflow-macos==2.15.0->tensorflow) (1.26.2)\n",
      "Requirement already satisfied: opt-einsum>=2.3.2 in ./mlp4/lib/python3.10/site-packages (from tensorflow-macos==2.15.0->tensorflow) (3.3.0)\n",
      "Requirement already satisfied: packaging in ./mlp4/lib/python3.10/site-packages (from tensorflow-macos==2.15.0->tensorflow) (23.2)\n",
      "Requirement already satisfied: protobuf!=4.21.0,!=4.21.1,!=4.21.2,!=4.21.3,!=4.21.4,!=4.21.5,<5.0.0dev,>=3.20.3 in ./mlp4/lib/python3.10/site-packages (from tensorflow-macos==2.15.0->tensorflow) (4.23.4)\n",
      "Requirement already satisfied: setuptools in ./mlp4/lib/python3.10/site-packages (from tensorflow-macos==2.15.0->tensorflow) (69.0.3)\n",
      "Requirement already satisfied: six>=1.12.0 in ./mlp4/lib/python3.10/site-packages (from tensorflow-macos==2.15.0->tensorflow) (1.16.0)\n",
      "Requirement already satisfied: termcolor>=1.1.0 in ./mlp4/lib/python3.10/site-packages (from tensorflow-macos==2.15.0->tensorflow) (2.4.0)\n",
      "Requirement already satisfied: typing-extensions>=3.6.6 in ./mlp4/lib/python3.10/site-packages (from tensorflow-macos==2.15.0->tensorflow) (4.9.0)\n",
      "Requirement already satisfied: wrapt<1.15,>=1.11.0 in ./mlp4/lib/python3.10/site-packages (from tensorflow-macos==2.15.0->tensorflow) (1.14.1)\n",
      "Requirement already satisfied: tensorflow-io-gcs-filesystem>=0.23.1 in ./mlp4/lib/python3.10/site-packages (from tensorflow-macos==2.15.0->tensorflow) (0.34.0)\n",
      "Requirement already satisfied: grpcio<2.0,>=1.24.3 in ./mlp4/lib/python3.10/site-packages (from tensorflow-macos==2.15.0->tensorflow) (1.60.0)\n",
      "Requirement already satisfied: tensorboard<2.16,>=2.15 in ./mlp4/lib/python3.10/site-packages (from tensorflow-macos==2.15.0->tensorflow) (2.15.1)\n",
      "Requirement already satisfied: tensorflow-estimator<2.16,>=2.15.0 in ./mlp4/lib/python3.10/site-packages (from tensorflow-macos==2.15.0->tensorflow) (2.15.0)\n",
      "Requirement already satisfied: keras<2.16,>=2.15.0 in ./mlp4/lib/python3.10/site-packages (from tensorflow-macos==2.15.0->tensorflow) (2.15.0)\n",
      "Requirement already satisfied: wheel<1.0,>=0.23.0 in ./mlp4/lib/python3.10/site-packages (from astunparse>=1.6.0->tensorflow-macos==2.15.0->tensorflow) (0.42.0)\n",
      "Requirement already satisfied: google-auth<3,>=1.6.3 in ./mlp4/lib/python3.10/site-packages (from tensorboard<2.16,>=2.15->tensorflow-macos==2.15.0->tensorflow) (2.25.2)\n",
      "Requirement already satisfied: google-auth-oauthlib<2,>=0.5 in ./mlp4/lib/python3.10/site-packages (from tensorboard<2.16,>=2.15->tensorflow-macos==2.15.0->tensorflow) (1.2.0)\n",
      "Requirement already satisfied: markdown>=2.6.8 in ./mlp4/lib/python3.10/site-packages (from tensorboard<2.16,>=2.15->tensorflow-macos==2.15.0->tensorflow) (3.5.1)\n",
      "Requirement already satisfied: requests<3,>=2.21.0 in ./mlp4/lib/python3.10/site-packages (from tensorboard<2.16,>=2.15->tensorflow-macos==2.15.0->tensorflow) (2.31.0)\n",
      "Requirement already satisfied: tensorboard-data-server<0.8.0,>=0.7.0 in ./mlp4/lib/python3.10/site-packages (from tensorboard<2.16,>=2.15->tensorflow-macos==2.15.0->tensorflow) (0.7.2)\n",
      "Requirement already satisfied: werkzeug>=1.0.1 in ./mlp4/lib/python3.10/site-packages (from tensorboard<2.16,>=2.15->tensorflow-macos==2.15.0->tensorflow) (3.0.1)\n",
      "Requirement already satisfied: cachetools<6.0,>=2.0.0 in ./mlp4/lib/python3.10/site-packages (from google-auth<3,>=1.6.3->tensorboard<2.16,>=2.15->tensorflow-macos==2.15.0->tensorflow) (5.3.2)\n",
      "Requirement already satisfied: pyasn1-modules>=0.2.1 in ./mlp4/lib/python3.10/site-packages (from google-auth<3,>=1.6.3->tensorboard<2.16,>=2.15->tensorflow-macos==2.15.0->tensorflow) (0.3.0)\n",
      "Requirement already satisfied: rsa<5,>=3.1.4 in ./mlp4/lib/python3.10/site-packages (from google-auth<3,>=1.6.3->tensorboard<2.16,>=2.15->tensorflow-macos==2.15.0->tensorflow) (4.9)\n",
      "Requirement already satisfied: requests-oauthlib>=0.7.0 in ./mlp4/lib/python3.10/site-packages (from google-auth-oauthlib<2,>=0.5->tensorboard<2.16,>=2.15->tensorflow-macos==2.15.0->tensorflow) (1.3.1)\n",
      "Requirement already satisfied: charset-normalizer<4,>=2 in ./mlp4/lib/python3.10/site-packages (from requests<3,>=2.21.0->tensorboard<2.16,>=2.15->tensorflow-macos==2.15.0->tensorflow) (3.3.2)\n",
      "Requirement already satisfied: idna<4,>=2.5 in ./mlp4/lib/python3.10/site-packages (from requests<3,>=2.21.0->tensorboard<2.16,>=2.15->tensorflow-macos==2.15.0->tensorflow) (3.6)\n",
      "Requirement already satisfied: urllib3<3,>=1.21.1 in ./mlp4/lib/python3.10/site-packages (from requests<3,>=2.21.0->tensorboard<2.16,>=2.15->tensorflow-macos==2.15.0->tensorflow) (2.1.0)\n",
      "Requirement already satisfied: certifi>=2017.4.17 in ./mlp4/lib/python3.10/site-packages (from requests<3,>=2.21.0->tensorboard<2.16,>=2.15->tensorflow-macos==2.15.0->tensorflow) (2023.11.17)\n",
      "Requirement already satisfied: MarkupSafe>=2.1.1 in ./mlp4/lib/python3.10/site-packages (from werkzeug>=1.0.1->tensorboard<2.16,>=2.15->tensorflow-macos==2.15.0->tensorflow) (2.1.3)\n",
      "Requirement already satisfied: pyasn1<0.6.0,>=0.4.6 in ./mlp4/lib/python3.10/site-packages (from pyasn1-modules>=0.2.1->google-auth<3,>=1.6.3->tensorboard<2.16,>=2.15->tensorflow-macos==2.15.0->tensorflow) (0.5.1)\n",
      "Requirement already satisfied: oauthlib>=3.0.0 in ./mlp4/lib/python3.10/site-packages (from requests-oauthlib>=0.7.0->google-auth-oauthlib<2,>=0.5->tensorboard<2.16,>=2.15->tensorflow-macos==2.15.0->tensorflow) (3.2.2)\n"
     ]
    }
   ],
   "source": [
    "!pip install tensorflow\n"
   ]
  },
  {
   "cell_type": "code",
   "execution_count": 21,
   "metadata": {},
   "outputs": [
    {
     "name": "stdout",
     "output_type": "stream",
     "text": [
      "Collecting tensorflow-gpu\n",
      "  Using cached tensorflow-gpu-2.12.0.tar.gz (2.6 kB)\n",
      "  Preparing metadata (setup.py) ... \u001b[?25lerror\n",
      "  \u001b[1;31merror\u001b[0m: \u001b[1msubprocess-exited-with-error\u001b[0m\n",
      "  \n",
      "  \u001b[31m×\u001b[0m \u001b[32mpython setup.py egg_info\u001b[0m did not run successfully.\n",
      "  \u001b[31m│\u001b[0m exit code: \u001b[1;36m1\u001b[0m\n",
      "  \u001b[31m╰─>\u001b[0m \u001b[31m[39 lines of output]\u001b[0m\n",
      "  \u001b[31m   \u001b[0m Traceback (most recent call last):\n",
      "  \u001b[31m   \u001b[0m   File \"/Users/krushna/Desktop/Programming/ML/ML-Project-4/ML-Project-4/mlp4/lib/python3.10/site-packages/setuptools/_vendor/packaging/requirements.py\", line 35, in __init__\n",
      "  \u001b[31m   \u001b[0m     parsed = _parse_requirement(requirement_string)\n",
      "  \u001b[31m   \u001b[0m   File \"/Users/krushna/Desktop/Programming/ML/ML-Project-4/ML-Project-4/mlp4/lib/python3.10/site-packages/setuptools/_vendor/packaging/_parser.py\", line 64, in parse_requirement\n",
      "  \u001b[31m   \u001b[0m     return _parse_requirement(Tokenizer(source, rules=DEFAULT_RULES))\n",
      "  \u001b[31m   \u001b[0m   File \"/Users/krushna/Desktop/Programming/ML/ML-Project-4/ML-Project-4/mlp4/lib/python3.10/site-packages/setuptools/_vendor/packaging/_parser.py\", line 82, in _parse_requirement\n",
      "  \u001b[31m   \u001b[0m     url, specifier, marker = _parse_requirement_details(tokenizer)\n",
      "  \u001b[31m   \u001b[0m   File \"/Users/krushna/Desktop/Programming/ML/ML-Project-4/ML-Project-4/mlp4/lib/python3.10/site-packages/setuptools/_vendor/packaging/_parser.py\", line 126, in _parse_requirement_details\n",
      "  \u001b[31m   \u001b[0m     marker = _parse_requirement_marker(\n",
      "  \u001b[31m   \u001b[0m   File \"/Users/krushna/Desktop/Programming/ML/ML-Project-4/ML-Project-4/mlp4/lib/python3.10/site-packages/setuptools/_vendor/packaging/_parser.py\", line 147, in _parse_requirement_marker\n",
      "  \u001b[31m   \u001b[0m     tokenizer.raise_syntax_error(\n",
      "  \u001b[31m   \u001b[0m   File \"/Users/krushna/Desktop/Programming/ML/ML-Project-4/ML-Project-4/mlp4/lib/python3.10/site-packages/setuptools/_vendor/packaging/_tokenizer.py\", line 165, in raise_syntax_error\n",
      "  \u001b[31m   \u001b[0m     raise ParserSyntaxError(\n",
      "  \u001b[31m   \u001b[0m setuptools.extern.packaging._tokenizer.ParserSyntaxError: Expected end or semicolon (after name and no valid version specifier)\n",
      "  \u001b[31m   \u001b[0m     python_version>\"3.7\"\n",
      "  \u001b[31m   \u001b[0m                   ^\n",
      "  \u001b[31m   \u001b[0m \n",
      "  \u001b[31m   \u001b[0m The above exception was the direct cause of the following exception:\n",
      "  \u001b[31m   \u001b[0m \n",
      "  \u001b[31m   \u001b[0m Traceback (most recent call last):\n",
      "  \u001b[31m   \u001b[0m   File \"<string>\", line 2, in <module>\n",
      "  \u001b[31m   \u001b[0m   File \"<pip-setuptools-caller>\", line 34, in <module>\n",
      "  \u001b[31m   \u001b[0m   File \"/private/var/folders/6y/8rwnfv1s3855864m6xpflvj00000gn/T/pip-install-_330dzur/tensorflow-gpu_f4b669970bd346b7a05def9b99495289/setup.py\", line 40, in <module>\n",
      "  \u001b[31m   \u001b[0m     setuptools.setup()\n",
      "  \u001b[31m   \u001b[0m   File \"/Users/krushna/Desktop/Programming/ML/ML-Project-4/ML-Project-4/mlp4/lib/python3.10/site-packages/setuptools/__init__.py\", line 102, in setup\n",
      "  \u001b[31m   \u001b[0m     _install_setup_requires(attrs)\n",
      "  \u001b[31m   \u001b[0m   File \"/Users/krushna/Desktop/Programming/ML/ML-Project-4/ML-Project-4/mlp4/lib/python3.10/site-packages/setuptools/__init__.py\", line 73, in _install_setup_requires\n",
      "  \u001b[31m   \u001b[0m     dist.parse_config_files(ignore_option_errors=True)\n",
      "  \u001b[31m   \u001b[0m   File \"/Users/krushna/Desktop/Programming/ML/ML-Project-4/ML-Project-4/mlp4/lib/python3.10/site-packages/setuptools/dist.py\", line 629, in parse_config_files\n",
      "  \u001b[31m   \u001b[0m     self._finalize_requires()\n",
      "  \u001b[31m   \u001b[0m   File \"/Users/krushna/Desktop/Programming/ML/ML-Project-4/ML-Project-4/mlp4/lib/python3.10/site-packages/setuptools/dist.py\", line 364, in _finalize_requires\n",
      "  \u001b[31m   \u001b[0m     self._normalize_requires()\n",
      "  \u001b[31m   \u001b[0m   File \"/Users/krushna/Desktop/Programming/ML/ML-Project-4/ML-Project-4/mlp4/lib/python3.10/site-packages/setuptools/dist.py\", line 379, in _normalize_requires\n",
      "  \u001b[31m   \u001b[0m     self.install_requires = list(map(str, _reqs.parse(install_requires)))\n",
      "  \u001b[31m   \u001b[0m   File \"/Users/krushna/Desktop/Programming/ML/ML-Project-4/ML-Project-4/mlp4/lib/python3.10/site-packages/setuptools/_vendor/packaging/requirements.py\", line 37, in __init__\n",
      "  \u001b[31m   \u001b[0m     raise InvalidRequirement(str(e)) from e\n",
      "  \u001b[31m   \u001b[0m setuptools.extern.packaging.requirements.InvalidRequirement: Expected end or semicolon (after name and no valid version specifier)\n",
      "  \u001b[31m   \u001b[0m     python_version>\"3.7\"\n",
      "  \u001b[31m   \u001b[0m                   ^\n",
      "  \u001b[31m   \u001b[0m \u001b[31m[end of output]\u001b[0m\n",
      "  \n",
      "  \u001b[1;35mnote\u001b[0m: This error originates from a subprocess, and is likely not a problem with pip.\n",
      "\u001b[1;31merror\u001b[0m: \u001b[1mmetadata-generation-failed\u001b[0m\n",
      "\n",
      "\u001b[31m×\u001b[0m Encountered error while generating package metadata.\n",
      "\u001b[31m╰─>\u001b[0m See above for output.\n",
      "\n",
      "\u001b[1;35mnote\u001b[0m: This is an issue with the package mentioned above, not pip.\n",
      "\u001b[1;36mhint\u001b[0m: See above for details.\n",
      "\u001b[?25h"
     ]
    }
   ],
   "source": [
    "!pip install tensorflow-gpu"
   ]
  },
  {
   "cell_type": "code",
   "execution_count": 22,
   "metadata": {},
   "outputs": [
    {
     "name": "stdout",
     "output_type": "stream",
     "text": [
      "2.15.0\n"
     ]
    }
   ],
   "source": [
    "import tensorflow as tf\n",
    "print(tf.__version__)"
   ]
  },
  {
   "cell_type": "code",
   "execution_count": 23,
   "metadata": {},
   "outputs": [],
   "source": [
    "## import basic libraries\n",
    "import pandas as pd\n",
    "import numpy as np\n",
    "import matplotlib.pyplot as plt"
   ]
  },
  {
   "cell_type": "code",
   "execution_count": 24,
   "metadata": {},
   "outputs": [],
   "source": [
    "df = pd.read_csv(\"/Users/krushna/Desktop/Programming/ML/ML-Project-4/ML-Project-4/Churn_Modelling.csv\")"
   ]
  },
  {
   "cell_type": "markdown",
   "metadata": {},
   "source": [
    "## ANN Implementation"
   ]
  },
  {
   "cell_type": "code",
   "execution_count": 25,
   "metadata": {},
   "outputs": [
    {
     "data": {
      "text/html": [
       "<div>\n",
       "<style scoped>\n",
       "    .dataframe tbody tr th:only-of-type {\n",
       "        vertical-align: middle;\n",
       "    }\n",
       "\n",
       "    .dataframe tbody tr th {\n",
       "        vertical-align: top;\n",
       "    }\n",
       "\n",
       "    .dataframe thead th {\n",
       "        text-align: right;\n",
       "    }\n",
       "</style>\n",
       "<table border=\"1\" class=\"dataframe\">\n",
       "  <thead>\n",
       "    <tr style=\"text-align: right;\">\n",
       "      <th></th>\n",
       "      <th>RowNumber</th>\n",
       "      <th>CustomerId</th>\n",
       "      <th>Surname</th>\n",
       "      <th>CreditScore</th>\n",
       "      <th>Geography</th>\n",
       "      <th>Gender</th>\n",
       "      <th>Age</th>\n",
       "      <th>Tenure</th>\n",
       "      <th>Balance</th>\n",
       "      <th>NumOfProducts</th>\n",
       "      <th>HasCrCard</th>\n",
       "      <th>IsActiveMember</th>\n",
       "      <th>EstimatedSalary</th>\n",
       "      <th>Exited</th>\n",
       "    </tr>\n",
       "  </thead>\n",
       "  <tbody>\n",
       "    <tr>\n",
       "      <th>0</th>\n",
       "      <td>1</td>\n",
       "      <td>15634602</td>\n",
       "      <td>Hargrave</td>\n",
       "      <td>619</td>\n",
       "      <td>France</td>\n",
       "      <td>Female</td>\n",
       "      <td>42</td>\n",
       "      <td>2</td>\n",
       "      <td>0.00</td>\n",
       "      <td>1</td>\n",
       "      <td>1</td>\n",
       "      <td>1</td>\n",
       "      <td>101348.88</td>\n",
       "      <td>1</td>\n",
       "    </tr>\n",
       "    <tr>\n",
       "      <th>1</th>\n",
       "      <td>2</td>\n",
       "      <td>15647311</td>\n",
       "      <td>Hill</td>\n",
       "      <td>608</td>\n",
       "      <td>Spain</td>\n",
       "      <td>Female</td>\n",
       "      <td>41</td>\n",
       "      <td>1</td>\n",
       "      <td>83807.86</td>\n",
       "      <td>1</td>\n",
       "      <td>0</td>\n",
       "      <td>1</td>\n",
       "      <td>112542.58</td>\n",
       "      <td>0</td>\n",
       "    </tr>\n",
       "    <tr>\n",
       "      <th>2</th>\n",
       "      <td>3</td>\n",
       "      <td>15619304</td>\n",
       "      <td>Onio</td>\n",
       "      <td>502</td>\n",
       "      <td>France</td>\n",
       "      <td>Female</td>\n",
       "      <td>42</td>\n",
       "      <td>8</td>\n",
       "      <td>159660.80</td>\n",
       "      <td>3</td>\n",
       "      <td>1</td>\n",
       "      <td>0</td>\n",
       "      <td>113931.57</td>\n",
       "      <td>1</td>\n",
       "    </tr>\n",
       "    <tr>\n",
       "      <th>3</th>\n",
       "      <td>4</td>\n",
       "      <td>15701354</td>\n",
       "      <td>Boni</td>\n",
       "      <td>699</td>\n",
       "      <td>France</td>\n",
       "      <td>Female</td>\n",
       "      <td>39</td>\n",
       "      <td>1</td>\n",
       "      <td>0.00</td>\n",
       "      <td>2</td>\n",
       "      <td>0</td>\n",
       "      <td>0</td>\n",
       "      <td>93826.63</td>\n",
       "      <td>0</td>\n",
       "    </tr>\n",
       "    <tr>\n",
       "      <th>4</th>\n",
       "      <td>5</td>\n",
       "      <td>15737888</td>\n",
       "      <td>Mitchell</td>\n",
       "      <td>850</td>\n",
       "      <td>Spain</td>\n",
       "      <td>Female</td>\n",
       "      <td>43</td>\n",
       "      <td>2</td>\n",
       "      <td>125510.82</td>\n",
       "      <td>1</td>\n",
       "      <td>1</td>\n",
       "      <td>1</td>\n",
       "      <td>79084.10</td>\n",
       "      <td>0</td>\n",
       "    </tr>\n",
       "  </tbody>\n",
       "</table>\n",
       "</div>"
      ],
      "text/plain": [
       "   RowNumber  CustomerId   Surname  CreditScore Geography  Gender  Age  \\\n",
       "0          1    15634602  Hargrave          619    France  Female   42   \n",
       "1          2    15647311      Hill          608     Spain  Female   41   \n",
       "2          3    15619304      Onio          502    France  Female   42   \n",
       "3          4    15701354      Boni          699    France  Female   39   \n",
       "4          5    15737888  Mitchell          850     Spain  Female   43   \n",
       "\n",
       "   Tenure    Balance  NumOfProducts  HasCrCard  IsActiveMember  \\\n",
       "0       2       0.00              1          1               1   \n",
       "1       1   83807.86              1          0               1   \n",
       "2       8  159660.80              3          1               0   \n",
       "3       1       0.00              2          0               0   \n",
       "4       2  125510.82              1          1               1   \n",
       "\n",
       "   EstimatedSalary  Exited  \n",
       "0        101348.88       1  \n",
       "1        112542.58       0  \n",
       "2        113931.57       1  \n",
       "3         93826.63       0  \n",
       "4         79084.10       0  "
      ]
     },
     "execution_count": 25,
     "metadata": {},
     "output_type": "execute_result"
    }
   ],
   "source": [
    "df.head()"
   ]
  },
  {
   "cell_type": "code",
   "execution_count": 26,
   "metadata": {},
   "outputs": [],
   "source": [
    "## Divide the dataset into dependent and independdent features \n",
    "x = df.iloc[:, 3:13]\n",
    "y = df.iloc[:, 13]"
   ]
  },
  {
   "cell_type": "code",
   "execution_count": 27,
   "metadata": {},
   "outputs": [],
   "source": [
    "##Feature Engineering \n",
    "geography = pd.get_dummies(x['Geography'],drop_first = True).astype(int)\n",
    "gender = pd.get_dummies(x['Gender'],drop_first = True).astype(int)"
   ]
  },
  {
   "cell_type": "code",
   "execution_count": 28,
   "metadata": {},
   "outputs": [],
   "source": [
    "# Concatinate these variables with dataframe \n",
    "x = x.drop(['Geography' , 'Gender'], axis = 1)\n",
    "x = pd.concat([x, geography, gender], axis = 1)"
   ]
  },
  {
   "cell_type": "code",
   "execution_count": 29,
   "metadata": {},
   "outputs": [],
   "source": [
    "# Splitting the datset into test and train \n",
    "from sklearn.model_selection import train_test_split\n",
    "x_train, x_test, y_train, y_test = train_test_split(x ,y,test_size = 0.2, random_state=0)"
   ]
  },
  {
   "cell_type": "code",
   "execution_count": 30,
   "metadata": {},
   "outputs": [],
   "source": [
    "##Feature Scalling \n",
    "from sklearn.preprocessing import StandardScaler\n",
    "sc = StandardScaler()\n",
    "x_train = sc.fit_transform(x_train)\n",
    "x_test = sc.transform(x_test)"
   ]
  },
  {
   "cell_type": "code",
   "execution_count": 31,
   "metadata": {},
   "outputs": [
    {
     "data": {
      "text/plain": [
       "(2000, 11)"
      ]
     },
     "execution_count": 31,
     "metadata": {},
     "output_type": "execute_result"
    }
   ],
   "source": [
    "x_test.shape"
   ]
  },
  {
   "cell_type": "code",
   "execution_count": 32,
   "metadata": {},
   "outputs": [],
   "source": [
    "#Lets create Neural Network\n",
    "from tensorflow.keras.models import Sequential\n",
    "from tensorflow.keras.layers import Dense \n",
    "from tensorflow.keras.layers import LeakyReLU, PReLU, ELU, ReLU\n",
    "from tensorflow.keras.layers import Dropout "
   ]
  },
  {
   "cell_type": "code",
   "execution_count": 33,
   "metadata": {},
   "outputs": [],
   "source": [
    "#Lets initialie ANN\n",
    "classifier = Sequential()"
   ]
  },
  {
   "cell_type": "code",
   "execution_count": 34,
   "metadata": {},
   "outputs": [],
   "source": [
    "#Add Input Layer \n",
    "classifier.add(Dense(units = 11 , activation = 'relu'))"
   ]
  },
  {
   "cell_type": "code",
   "execution_count": 35,
   "metadata": {},
   "outputs": [],
   "source": [
    "#Add 1st Hidden Layer \n",
    "classifier.add(Dense(units = 7 , activation = 'relu'))\n",
    "classifier.add(Dropout(0.2))"
   ]
  },
  {
   "cell_type": "code",
   "execution_count": 36,
   "metadata": {},
   "outputs": [],
   "source": [
    "#Add 2st Hidden Layer \n",
    "classifier.add(Dense(units = 6 , activation = 'relu'))\n",
    "classifier.add(Dropout(0.3))"
   ]
  },
  {
   "cell_type": "code",
   "execution_count": 37,
   "metadata": {},
   "outputs": [],
   "source": [
    "# Add Ouput Layer \n",
    "classifier.add(Dense(1 , activation = 'sigmoid')) "
   ]
  },
  {
   "cell_type": "code",
   "execution_count": 40,
   "metadata": {},
   "outputs": [],
   "source": [
    "# Train NeuralNetwork\n",
    "classifier.compile(optimizer = opt, loss = 'binary_crossentropy', metrics=['accuracy'])"
   ]
  },
  {
   "cell_type": "code",
   "execution_count": 41,
   "metadata": {},
   "outputs": [
    {
     "name": "stderr",
     "output_type": "stream",
     "text": [
      "WARNING:absl:At this time, the v2.11+ optimizer `tf.keras.optimizers.Adam` runs slowly on M1/M2 Macs, please use the legacy Keras optimizer instead, located at `tf.keras.optimizers.legacy.Adam`.\n"
     ]
    }
   ],
   "source": [
    "import tensorflow\n",
    "opt = tensorflow.keras.optimizers.Adam(learning_rate=0.01)"
   ]
  },
  {
   "cell_type": "code",
   "execution_count": 42,
   "metadata": {},
   "outputs": [
    {
     "name": "stdout",
     "output_type": "stream",
     "text": [
      "Epoch 1/50\n",
      "536/536 [==============================] - 1s 743us/step - loss: 0.4806 - accuracy: 0.7959 - val_loss: 0.4176 - val_accuracy: 0.8088\n",
      "Epoch 2/50\n",
      "536/536 [==============================] - 0s 600us/step - loss: 0.4065 - accuracy: 0.8203 - val_loss: 0.3863 - val_accuracy: 0.8440\n",
      "Epoch 3/50\n",
      "536/536 [==============================] - 0s 595us/step - loss: 0.3929 - accuracy: 0.8343 - val_loss: 0.3718 - val_accuracy: 0.8455\n",
      "Epoch 4/50\n",
      "536/536 [==============================] - 0s 589us/step - loss: 0.3851 - accuracy: 0.8354 - val_loss: 0.3750 - val_accuracy: 0.8395\n",
      "Epoch 5/50\n",
      "536/536 [==============================] - 0s 592us/step - loss: 0.3904 - accuracy: 0.8349 - val_loss: 0.3812 - val_accuracy: 0.8432\n",
      "Epoch 6/50\n",
      "536/536 [==============================] - 0s 617us/step - loss: 0.3895 - accuracy: 0.8391 - val_loss: 0.3668 - val_accuracy: 0.8489\n",
      "Epoch 7/50\n",
      "536/536 [==============================] - 0s 631us/step - loss: 0.3806 - accuracy: 0.8451 - val_loss: 0.3681 - val_accuracy: 0.8417\n",
      "Epoch 8/50\n",
      "536/536 [==============================] - 0s 601us/step - loss: 0.3789 - accuracy: 0.8461 - val_loss: 0.3904 - val_accuracy: 0.8432\n",
      "Epoch 9/50\n",
      "536/536 [==============================] - 0s 627us/step - loss: 0.3818 - accuracy: 0.8419 - val_loss: 0.3746 - val_accuracy: 0.8436\n",
      "Epoch 10/50\n",
      "536/536 [==============================] - 0s 616us/step - loss: 0.3710 - accuracy: 0.8399 - val_loss: 0.3674 - val_accuracy: 0.8451\n",
      "Epoch 11/50\n",
      "536/536 [==============================] - 0s 604us/step - loss: 0.3708 - accuracy: 0.8455 - val_loss: 0.3695 - val_accuracy: 0.8501\n",
      "Epoch 12/50\n",
      "536/536 [==============================] - 0s 615us/step - loss: 0.3699 - accuracy: 0.8485 - val_loss: 0.3661 - val_accuracy: 0.8440\n",
      "Epoch 13/50\n",
      "536/536 [==============================] - 0s 597us/step - loss: 0.3651 - accuracy: 0.8477 - val_loss: 0.3694 - val_accuracy: 0.8451\n",
      "Epoch 14/50\n",
      "536/536 [==============================] - 0s 627us/step - loss: 0.3692 - accuracy: 0.8472 - val_loss: 0.3634 - val_accuracy: 0.8474\n",
      "Epoch 15/50\n",
      "536/536 [==============================] - 0s 628us/step - loss: 0.3653 - accuracy: 0.8485 - val_loss: 0.3757 - val_accuracy: 0.8497\n",
      "Epoch 16/50\n",
      "536/536 [==============================] - 0s 607us/step - loss: 0.3658 - accuracy: 0.8518 - val_loss: 0.3634 - val_accuracy: 0.8478\n",
      "Epoch 17/50\n",
      "536/536 [==============================] - 0s 596us/step - loss: 0.3648 - accuracy: 0.8457 - val_loss: 0.3567 - val_accuracy: 0.8546\n",
      "Epoch 18/50\n",
      "536/536 [==============================] - 0s 598us/step - loss: 0.3630 - accuracy: 0.8518 - val_loss: 0.3593 - val_accuracy: 0.8527\n",
      "Epoch 19/50\n",
      "536/536 [==============================] - 0s 599us/step - loss: 0.3616 - accuracy: 0.8522 - val_loss: 0.3668 - val_accuracy: 0.8387\n",
      "Epoch 20/50\n",
      "536/536 [==============================] - 0s 593us/step - loss: 0.3606 - accuracy: 0.8518 - val_loss: 0.3540 - val_accuracy: 0.8569\n",
      "Epoch 21/50\n",
      "536/536 [==============================] - 0s 596us/step - loss: 0.3592 - accuracy: 0.8541 - val_loss: 0.3606 - val_accuracy: 0.8573\n",
      "Epoch 22/50\n",
      "536/536 [==============================] - 0s 626us/step - loss: 0.3597 - accuracy: 0.8517 - val_loss: 0.3599 - val_accuracy: 0.8535\n",
      "Epoch 23/50\n",
      "536/536 [==============================] - 0s 651us/step - loss: 0.3601 - accuracy: 0.8531 - val_loss: 0.3669 - val_accuracy: 0.8576\n",
      "Epoch 24/50\n",
      "536/536 [==============================] - 0s 645us/step - loss: 0.3574 - accuracy: 0.8513 - val_loss: 0.3631 - val_accuracy: 0.8512\n",
      "Epoch 25/50\n",
      "536/536 [==============================] - 0s 606us/step - loss: 0.3600 - accuracy: 0.8481 - val_loss: 0.3749 - val_accuracy: 0.8508\n",
      "Epoch 26/50\n",
      "536/536 [==============================] - 0s 595us/step - loss: 0.3588 - accuracy: 0.8472 - val_loss: 0.3635 - val_accuracy: 0.8557\n",
      "Epoch 27/50\n",
      "536/536 [==============================] - 0s 600us/step - loss: 0.3583 - accuracy: 0.8505 - val_loss: 0.3656 - val_accuracy: 0.8550\n",
      "Epoch 28/50\n",
      "536/536 [==============================] - 0s 592us/step - loss: 0.3541 - accuracy: 0.8520 - val_loss: 0.3658 - val_accuracy: 0.8538\n",
      "Epoch 29/50\n",
      "536/536 [==============================] - 0s 594us/step - loss: 0.3584 - accuracy: 0.8539 - val_loss: 0.3647 - val_accuracy: 0.8519\n",
      "Epoch 30/50\n",
      "536/536 [==============================] - 0s 592us/step - loss: 0.3467 - accuracy: 0.8580 - val_loss: 0.3665 - val_accuracy: 0.8531\n",
      "Epoch 31/50\n",
      "536/536 [==============================] - 0s 596us/step - loss: 0.3598 - accuracy: 0.8520 - val_loss: 0.3752 - val_accuracy: 0.8546\n",
      "Epoch 32/50\n",
      "536/536 [==============================] - 0s 592us/step - loss: 0.3533 - accuracy: 0.8548 - val_loss: 0.3617 - val_accuracy: 0.8527\n",
      "Epoch 33/50\n",
      "536/536 [==============================] - 0s 594us/step - loss: 0.3586 - accuracy: 0.8541 - val_loss: 0.3634 - val_accuracy: 0.8519\n",
      "Epoch 34/50\n",
      "536/536 [==============================] - 0s 593us/step - loss: 0.3606 - accuracy: 0.8537 - val_loss: 0.3605 - val_accuracy: 0.8504\n",
      "Epoch 35/50\n",
      "536/536 [==============================] - 0s 608us/step - loss: 0.3574 - accuracy: 0.8479 - val_loss: 0.3682 - val_accuracy: 0.8501\n",
      "Epoch 36/50\n",
      "536/536 [==============================] - 0s 614us/step - loss: 0.3519 - accuracy: 0.8541 - val_loss: 0.3724 - val_accuracy: 0.8470\n",
      "Epoch 37/50\n",
      "536/536 [==============================] - 0s 615us/step - loss: 0.3581 - accuracy: 0.8502 - val_loss: 0.3792 - val_accuracy: 0.8387\n",
      "Epoch 38/50\n",
      "536/536 [==============================] - 0s 619us/step - loss: 0.3544 - accuracy: 0.8541 - val_loss: 0.3591 - val_accuracy: 0.8523\n",
      "Epoch 39/50\n",
      "536/536 [==============================] - 0s 613us/step - loss: 0.3542 - accuracy: 0.8530 - val_loss: 0.3642 - val_accuracy: 0.8466\n",
      "Epoch 40/50\n",
      "536/536 [==============================] - 0s 607us/step - loss: 0.3547 - accuracy: 0.8522 - val_loss: 0.3718 - val_accuracy: 0.8523\n",
      "Epoch 41/50\n",
      "536/536 [==============================] - 0s 595us/step - loss: 0.3595 - accuracy: 0.8513 - val_loss: 0.3688 - val_accuracy: 0.8501\n",
      "Epoch 42/50\n",
      "536/536 [==============================] - 0s 616us/step - loss: 0.3591 - accuracy: 0.8524 - val_loss: 0.3655 - val_accuracy: 0.8448\n",
      "Epoch 43/50\n",
      "536/536 [==============================] - 0s 623us/step - loss: 0.3507 - accuracy: 0.8586 - val_loss: 0.3651 - val_accuracy: 0.8493\n",
      "Epoch 44/50\n",
      "536/536 [==============================] - 0s 612us/step - loss: 0.3489 - accuracy: 0.8539 - val_loss: 0.3696 - val_accuracy: 0.8531\n",
      "Epoch 45/50\n",
      "536/536 [==============================] - 0s 610us/step - loss: 0.3493 - accuracy: 0.8513 - val_loss: 0.3727 - val_accuracy: 0.8387\n",
      "Epoch 46/50\n",
      "536/536 [==============================] - 0s 594us/step - loss: 0.3561 - accuracy: 0.8502 - val_loss: 0.3573 - val_accuracy: 0.8504\n",
      "Epoch 47/50\n",
      "536/536 [==============================] - 0s 610us/step - loss: 0.3556 - accuracy: 0.8531 - val_loss: 0.3606 - val_accuracy: 0.8542\n",
      "Epoch 48/50\n",
      "536/536 [==============================] - 0s 599us/step - loss: 0.3534 - accuracy: 0.8546 - val_loss: 0.3655 - val_accuracy: 0.8436\n",
      "Epoch 49/50\n",
      "536/536 [==============================] - 0s 592us/step - loss: 0.3545 - accuracy: 0.8494 - val_loss: 0.3645 - val_accuracy: 0.8459\n",
      "Epoch 50/50\n",
      "536/536 [==============================] - 0s 592us/step - loss: 0.3549 - accuracy: 0.8505 - val_loss: 0.3568 - val_accuracy: 0.8535\n"
     ]
    }
   ],
   "source": [
    "model_history = classifier.fit(x_train, y_train , validation_split = 0.33, batch_size = 10, epochs = 50)"
   ]
  },
  {
   "cell_type": "code",
   "execution_count": 43,
   "metadata": {},
   "outputs": [
    {
     "data": {
      "text/plain": [
       "dict_keys(['loss', 'accuracy', 'val_loss', 'val_accuracy'])"
      ]
     },
     "execution_count": 43,
     "metadata": {},
     "output_type": "execute_result"
    }
   ],
   "source": [
    "model_history.history.keys()"
   ]
  },
  {
   "cell_type": "code",
   "execution_count": 44,
   "metadata": {},
   "outputs": [],
   "source": [
    "#Early Stopping \n",
    "import tensorflow as tf\n",
    "early_stopping = tf.keras.callbacks.EarlyStopping(\n",
    "    monitor='val_loss',\n",
    "    min_delta=0.003,\n",
    "    patience=0,\n",
    "    verbose=1,\n",
    "    mode='auto',\n",
    "    baseline=None,\n",
    "    restore_best_weights=False,\n",
    "    start_from_epoch=0\n",
    ")"
   ]
  },
  {
   "cell_type": "code",
   "execution_count": 45,
   "metadata": {},
   "outputs": [
    {
     "name": "stdout",
     "output_type": "stream",
     "text": [
      "Epoch 1/1000\n",
      "536/536 [==============================] - 0s 629us/step - loss: 0.3569 - accuracy: 0.8492 - val_loss: 0.3637 - val_accuracy: 0.8504\n",
      "Epoch 2/1000\n",
      "536/536 [==============================] - 0s 593us/step - loss: 0.3550 - accuracy: 0.8481 - val_loss: 0.3821 - val_accuracy: 0.8444\n",
      "Epoch 2: early stopping\n"
     ]
    }
   ],
   "source": [
    "model_history = classifier.fit(x_train, y_train , validation_split = 0.33, batch_size = 10, epochs = 1000, callbacks = early_stopping)"
   ]
  },
  {
   "cell_type": "code",
   "execution_count": 46,
   "metadata": {},
   "outputs": [
    {
     "data": {
      "text/plain": [
       "<function matplotlib.pyplot.show(close=None, block=None)>"
      ]
     },
     "execution_count": 46,
     "metadata": {},
     "output_type": "execute_result"
    },
    {
     "data": {
      "image/png": "[encoded data removed]",
      "text/plain": [
       "<Figure size 640x480 with 1 Axes>"
      ]
     },
     "metadata": {},
     "output_type": "display_data"
    }
   ],
   "source": [
    "# Summarize history for accuracy\n",
    "plt.plot(model_history.history['accuracy'])\n",
    "plt.plot(model_history.history['val_accuracy'])\n",
    "plt.title('Model_Accuracy')\n",
    "plt.ylabel('accuracy')\n",
    "plt.xlabel('epoch')\n",
    "plt.legend(['train' , 'test'] , loc = 'upper left')\n",
    "plt.show"
   ]
  },
  {
   "cell_type": "code",
   "execution_count": 47,
   "metadata": {},
   "outputs": [
    {
     "data": {
      "text/plain": [
       "<function matplotlib.pyplot.show(close=None, block=None)>"
      ]
     },
     "execution_count": 47,
     "metadata": {},
     "output_type": "execute_result"
    },
    {
     "data": {
      "image/png": "[encoded data removed]",
      "text/plain": [
       "<Figure size 640x480 with 1 Axes>"
      ]
     },
     "metadata": {},
     "output_type": "display_data"
    }
   ],
   "source": [
    "# Summarize history for loss\n",
    "plt.plot(model_history.history['loss'])\n",
    "plt.plot(model_history.history['val_loss'])\n",
    "plt.title('Model_Loss')\n",
    "plt.ylabel('loss')\n",
    "plt.xlabel('epoch')\n",
    "plt.legend(['train' , 'test'] , loc = 'upper left')\n",
    "plt.show"
   ]
  },
  {
   "cell_type": "code",
   "execution_count": 48,
   "metadata": {},
   "outputs": [
    {
     "name": "stdout",
     "output_type": "stream",
     "text": [
      "63/63 [==============================] - 0s 380us/step\n"
     ]
    }
   ],
   "source": [
    "# Making the Prediction and evaluation for the model\n",
    "# Predicting Test Set Result \n",
    "y_pred = classifier.predict(x_test)\n",
    "y_pred = (y_pred >= 0.5)"
   ]
  },
  {
   "cell_type": "code",
   "execution_count": 49,
   "metadata": {},
   "outputs": [
    {
     "data": {
      "text/plain": [
       "array([[1567,   28],\n",
       "       [ 231,  174]])"
      ]
     },
     "execution_count": 49,
     "metadata": {},
     "output_type": "execute_result"
    }
   ],
   "source": [
    "# Make the confusion matrix\n",
    "from sklearn.metrics import confusion_matrix\n",
    "cm = confusion_matrix(y_test, y_pred)\n",
    "cm"
   ]
  },
  {
   "cell_type": "code",
   "execution_count": null,
   "metadata": {},
   "outputs": [],
   "source": []
  },
  {
   "cell_type": "code",
   "execution_count": 50,
   "metadata": {},
   "outputs": [
    {
     "name": "stdout",
     "output_type": "stream",
     "text": [
      "Shape of y_pred: (2000, 1)\n",
      "Shape of y_train: (8000,)\n"
     ]
    }
   ],
   "source": [
    "print(\"Shape of y_pred:\", y_pred.shape)\n",
    "print(\"Shape of y_train:\", y_train.shape)"
   ]
  },
  {
   "cell_type": "code",
   "execution_count": 51,
   "metadata": {},
   "outputs": [
    {
     "data": {
      "text/plain": [
       "array([0, 0, 0, ..., 0, 0, 1])"
      ]
     },
     "execution_count": 51,
     "metadata": {},
     "output_type": "execute_result"
    }
   ],
   "source": [
    "y_pred = y_pred.ravel()\n",
    "y_train = y_train.ravel()\n",
    "y_train"
   ]
  },
  {
   "cell_type": "code",
   "execution_count": 52,
   "metadata": {},
   "outputs": [
    {
     "name": "stdout",
     "output_type": "stream",
     "text": [
      "Data type of y_pred: bool\n",
      "Data type of y_train: int64\n"
     ]
    }
   ],
   "source": [
    "print(\"Data type of y_pred:\", y_pred.dtype)\n",
    "print(\"Data type of y_train:\", y_train.dtype)\n"
   ]
  },
  {
   "cell_type": "code",
   "execution_count": 53,
   "metadata": {},
   "outputs": [
    {
     "data": {
      "text/plain": [
       "[array([[-2.82797247e-01,  1.36309475e-01,  1.02644098e+00,\n",
       "          6.02547526e-01,  5.21562219e-01,  1.00872688e-01,\n",
       "         -2.30139494e-03, -2.93882817e-01,  1.61798149e-01,\n",
       "         -2.11311206e-01,  6.53079674e-02],\n",
       "        [-2.20284089e-01,  1.32256675e+00, -1.78906775e+00,\n",
       "         -2.14044833e+00, -2.27149415e+00, -1.05324578e+00,\n",
       "          4.54088807e-01,  2.85542989e+00, -3.33268070e+00,\n",
       "          2.62324548e+00,  6.53164685e-01],\n",
       "        [ 5.88979900e-01, -4.25438762e-01,  8.78289044e-01,\n",
       "         -4.77053337e-02, -1.48165986e-01,  1.61722469e+00,\n",
       "          8.47510874e-01,  2.96516716e-01,  2.23160639e-01,\n",
       "          2.04458430e-01,  3.06192428e-01],\n",
       "        [ 1.84664679e+00,  2.08505344e+00, -3.22788978e+00,\n",
       "         -1.36994684e+00, -2.78103411e-01, -6.54713511e-01,\n",
       "          1.62659734e-01, -2.66479522e-01,  2.83405155e-01,\n",
       "         -1.29906714e-01, -3.20102596e+00],\n",
       "        [-5.09006381e-01,  1.71203983e+00,  3.67799163e-01,\n",
       "         -1.42801690e+00, -4.44671154e-01,  2.74619281e-01,\n",
       "          3.78169441e+00,  1.20095842e-01,  1.14499283e+00,\n",
       "         -2.02585626e+00, -3.64097428e+00],\n",
       "        [-3.25959831e-01, -2.81388968e-01, -6.65610060e-02,\n",
       "          1.89117503e+00, -1.40530676e-01,  2.07863832e+00,\n",
       "         -1.09203026e-01,  1.90112572e-02, -3.58774453e-01,\n",
       "         -3.34286898e-01,  3.65257174e-01],\n",
       "        [ 5.10577917e-01, -1.25261104e+00,  1.17877901e+00,\n",
       "          6.50817037e-01, -1.27453673e+00,  6.00703716e-01,\n",
       "         -8.45809579e-02,  2.08963108e+00, -7.75891244e-02,\n",
       "         -1.04422915e+00,  4.06355709e-02],\n",
       "        [ 8.51536095e-01, -1.49071485e-01, -8.04984748e-01,\n",
       "          9.13219810e-01, -6.83133423e-01, -4.68059659e-01,\n",
       "          3.20425272e-01,  4.58573639e-01,  1.57506511e-01,\n",
       "          5.09227037e-01,  2.21772473e-02],\n",
       "        [-1.38425350e+00, -2.26445770e+00, -4.77038383e-01,\n",
       "          1.71685314e+00, -8.55768919e-02,  4.30754423e-01,\n",
       "          1.67256489e-01,  2.98413545e-01, -1.08142197e+00,\n",
       "          1.14430761e+00,  2.01386714e+00],\n",
       "        [-4.10803437e-01, -9.27661434e-02,  3.35629731e-01,\n",
       "         -1.01529765e+00,  5.87926388e-01, -4.63542819e-01,\n",
       "         -6.58123672e-01,  2.50045508e-01, -8.80614698e-01,\n",
       "         -4.67663914e-01,  8.77232701e-02],\n",
       "        [-1.05420232e+00,  2.58227676e-01,  1.35328412e+00,\n",
       "         -2.09510699e-01, -3.92693132e-01,  2.10224104e+00,\n",
       "          4.67842910e-03,  5.83090365e-01,  6.42734170e-02,\n",
       "         -2.73182601e-01,  2.89723247e-01]], dtype=float32),\n",
       " array([-3.982079  , -3.216387  , -0.12395528, -2.3222487 , -4.2048287 ,\n",
       "        -3.2357142 , -4.712103  , -4.5427513 ,  3.1547987 , -0.4798874 ,\n",
       "        -1.6660311 ], dtype=float32),\n",
       " array([[-1.9915637 , -0.37681943,  0.02769932, -0.5478468 , -1.2980381 ,\n",
       "         -1.3236325 ,  0.12569624],\n",
       "        [-0.57950485, -2.22935   ,  1.0440706 , -0.21729255, -0.1333175 ,\n",
       "         -4.7832556 ,  0.93807983],\n",
       "        [ 0.20266576,  1.0749924 , -0.6633488 ,  0.67972213,  0.5563624 ,\n",
       "          0.5727034 , -2.4490519 ],\n",
       "        [ 0.01797656,  0.93186384, -1.1309291 ,  0.05406496,  0.39260685,\n",
       "          0.28182334, -2.8841367 ],\n",
       "        [-0.9116581 , -2.48444   , -0.04475679, -0.07498896, -1.8552467 ,\n",
       "         -0.7840866 ,  0.06110296],\n",
       "        [ 0.06568698,  0.79522276,  0.48800668, -0.29976794,  0.42628363,\n",
       "          1.4993336 ,  2.0388987 ],\n",
       "        [-2.1586637 , -1.8394756 ,  2.6176262 , -2.3435645 , -2.0617623 ,\n",
       "         -0.9407293 ,  2.139404  ],\n",
       "        [ 1.6977612 ,  0.7721464 , -3.06063   , -2.5696414 ,  2.4275734 ,\n",
       "          1.7857462 , -3.237818  ],\n",
       "        [ 0.81960857,  1.175254  , -2.1051655 ,  0.6339688 ,  0.3181409 ,\n",
       "          0.03443134, -1.2643726 ],\n",
       "        [-0.42534137, -0.6615999 ,  0.45462456, -0.9573066 , -0.7896488 ,\n",
       "         -1.9634119 ,  0.45446315],\n",
       "        [-0.8215951 , -0.88000065,  0.4947929 , -1.034615  , -2.8819554 ,\n",
       "         -2.9986022 ,  0.7857078 ]], dtype=float32),\n",
       " array([ 0.47466666,  0.9987778 , -1.7637422 ,  0.82559925,  0.8030459 ,\n",
       "         1.5359429 , -2.3815773 ], dtype=float32),\n",
       " array([[-0.00406903, -0.28073063, -0.60746604,  0.20847894,  0.14159387,\n",
       "         -1.432175  ],\n",
       "        [ 0.15766871, -2.719257  ,  0.07661973,  0.02645409, -0.03547232,\n",
       "         -2.802896  ],\n",
       "        [-2.26686   ,  0.30614793,  0.3894289 , -1.0389836 , -0.8192271 ,\n",
       "          0.34074348],\n",
       "        [ 0.17999461, -1.580935  , -1.6452934 ,  0.10962542,  0.29022372,\n",
       "         -0.53468466],\n",
       "        [ 0.31107968, -1.9329777 , -0.5437032 ,  0.39604586,  0.5807441 ,\n",
       "         -0.46829346],\n",
       "        [ 0.8262646 , -2.7461963 , -1.5489582 ,  0.73810726,  0.62055165,\n",
       "         -0.89791423],\n",
       "        [-0.6565541 ,  0.57578605,  0.6306953 , -0.39002642, -1.2909489 ,\n",
       "          0.56542313]], dtype=float32),\n",
       " array([-0.3442007 ,  0.94737536,  0.84991103, -0.36498716, -0.47232422,\n",
       "         0.80494845], dtype=float32),\n",
       " array([[-0.14520079],\n",
       "        [ 0.3789267 ],\n",
       "        [ 0.292072  ],\n",
       "        [-0.16632318],\n",
       "        [-0.19928528],\n",
       "        [ 0.3316196 ]], dtype=float32),\n",
       " array([-1.3106633], dtype=float32)]"
      ]
     },
     "execution_count": 53,
     "metadata": {},
     "output_type": "execute_result"
    }
   ],
   "source": [
    "#get the weight \n",
    "classifier.get_weights()"
   ]
  },
  {
   "cell_type": "code",
   "execution_count": 54,
   "metadata": {},
   "outputs": [
    {
     "data": {
      "text/plain": [
       "0.8705"
      ]
     },
     "execution_count": 54,
     "metadata": {},
     "output_type": "execute_result"
    }
   ],
   "source": [
    "from sklearn.metrics import accuracy_score\n",
    "score = accuracy_score(y_pred, y_test)\n",
    "score"
   ]
  },
  {
   "cell_type": "code",
   "execution_count": null,
   "metadata": {},
   "outputs": [],
   "source": []
  }
 ],
 "metadata": {
  "kernelspec": {
   "display_name": "Python 3 (ipykernel)",
   "language": "python",
   "name": "python3"
  },
  "language_info": {
   "codemirror_mode": {
    "name": "ipython",
    "version": 3
   },
   "file_extension": ".py",
   "mimetype": "text/x-python",
   "name": "python",
   "nbconvert_exporter": "python",
   "pygments_lexer": "ipython3",
   "version": "3.10.9"
  }
 },
 "nbformat": 4,
 "nbformat_minor": 2
}
